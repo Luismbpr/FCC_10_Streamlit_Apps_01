{
 "cells": [
  {
   "cell_type": "markdown",
   "id": "143be17b-8fb5-4e1e-a65e-5937f8e7869a",
   "metadata": {},
   "source": [
    "## App 001"
   ]
  },
  {
   "cell_type": "code",
   "execution_count": 1,
   "id": "7f4876af-f903-48cc-8f62-f4563f23e5ef",
   "metadata": {},
   "outputs": [],
   "source": [
    "import numpy as np\n",
    "import pandas as pd\n",
    "#import matplotlib.pyplot as plt\n",
    "#%matplotlib inline\n",
    "import streamlit as st\n",
    "import yfinance as yf"
   ]
  },
  {
   "cell_type": "code",
   "execution_count": 17,
   "id": "c0fd31f6-f348-41fb-ac20-4cfd8a767ec1",
   "metadata": {},
   "outputs": [
    {
     "data": {
      "text/plain": [
       "DeltaGenerator()"
      ]
     },
     "execution_count": 17,
     "metadata": {},
     "output_type": "execute_result"
    }
   ],
   "source": [
    "st.write(\"\"\"\n",
    "    #Stock Price App\n",
    "    Shows the Stock Closing Price and Volume for a specific company.\n",
    "\"\"\")\n",
    "\n",
    "## Defining Ticker Symbol\n",
    "tickerSymbol = 'GOOGL'\n",
    "## Getting Data for specific Ticker\n",
    "tickerData = yf.Ticker(tickerSymbol)\n",
    "## Getting historical prices for a specific ticker\n",
    "tickerDF = tickerData.history(period='1d', start='2010-05-31',end='2020-05-31')\n",
    "#tickerDF\n",
    "## Selecting Close Data and Volume\n",
    "st.line_chart(data=tickerDF['Close'], \n",
    "              x= None,\n",
    "              y= None,\n",
    "              width=0,\n",
    "              height=0,\n",
    "              use_container_width=True)\n",
    "\n",
    "st.line_chart(data=tickerDF['Volume'], \n",
    "              x= None,\n",
    "              y= None,\n",
    "              width=0,\n",
    "              height=0,\n",
    "              use_container_width=True)\n"
   ]
  },
  {
   "cell_type": "code",
   "execution_count": 3,
   "id": "5ccbea0a-6583-441f-8bf9-76f1eaa0ae0b",
   "metadata": {},
   "outputs": [
    {
     "data": {
      "text/plain": [
       "DeltaGenerator()"
      ]
     },
     "execution_count": 3,
     "metadata": {},
     "output_type": "execute_result"
    }
   ],
   "source": [
    "import yfinance as yf\n",
    "import streamlit as st\n",
    "import pandas as pd\n",
    "\n",
    "st.write(\"\"\"\n",
    "# Stock Price App\n",
    "\n",
    "Shows the Stock **Closing Price** and *Volume* for a specific company.\n",
    "\n",
    "\"\"\")\n",
    "\n",
    "## Defining Ticker Symbol\n",
    "tickerSymbol = 'GOOGL'\n",
    "## Getting Data for specific Ticker\n",
    "tickerData = yf.Ticker(tickerSymbol)\n",
    "## Getting historical prices for a specific ticker\n",
    "tickerDF = tickerData.history(period='1d', start='2010-05-31',end='2020-05-31')\n",
    "#tickerDF\n",
    "## Selecting Close Data and Volume\n",
    "st.line_chart(data=tickerDF['Close'], \n",
    "              x= None,\n",
    "              y= None,\n",
    "              width=0,\n",
    "              height=0,\n",
    "              use_container_width=True)\n",
    "\n",
    "st.line_chart(data=tickerDF['Volume'], \n",
    "              x= None,\n",
    "              y= None,\n",
    "              width=0,\n",
    "              height=0,\n",
    "              use_container_width=True)"
   ]
  }
 ],
 "metadata": {
  "kernelspec": {
   "display_name": "Python 3",
   "language": "python",
   "name": "python3"
  },
  "language_info": {
   "codemirror_mode": {
    "name": "ipython",
    "version": 3
   },
   "file_extension": ".py",
   "mimetype": "text/x-python",
   "name": "python",
   "nbconvert_exporter": "python",
   "pygments_lexer": "ipython3",
   "version": "3.10.12"
  }
 },
 "nbformat": 4,
 "nbformat_minor": 5
}
