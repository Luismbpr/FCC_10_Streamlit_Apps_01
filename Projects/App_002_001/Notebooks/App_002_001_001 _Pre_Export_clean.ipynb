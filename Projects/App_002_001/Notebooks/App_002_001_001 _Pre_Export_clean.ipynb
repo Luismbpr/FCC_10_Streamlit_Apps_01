{
 "cells": [
  {
   "cell_type": "markdown",
   "id": "637ef7fe-2c51-4bc7-b9df-c52843a35e12",
   "metadata": {},
   "source": [
    "## Bioinformatics DNA Counts"
   ]
  },
  {
   "cell_type": "code",
   "execution_count": 1,
   "id": "54ed2e91-60e9-44a5-b72f-38e4c5b4bf10",
   "metadata": {},
   "outputs": [],
   "source": [
    "import numpy as np\n",
    "import pandas as pd\n",
    "import streamlit as st\n",
    "\n",
    "import altair as alt\n",
    "#import PIL as PIL\n",
    "from PIL import Image"
   ]
  },
  {
   "cell_type": "code",
   "execution_count": 8,
   "id": "5e949962-bd55-45a4-a781-ff34077e62d0",
   "metadata": {},
   "outputs": [
    {
     "data": {
      "text/plain": [
       "'GAACACGTGGAGGCAAACAGGAAGGTGAAGAAGAACTTATCCTATCAGGACGGAAGGTCCTGTGCTCGGGATCTTCCAGACGTCGCGACTCTAAATTGCCCCCTCTGAGGTCAAGGAACACAAGATGGTTTTGGAAATGCTGAACCCGATACATTATAACATCACCAGCATCGTGCCTGAAGCCATGCCTGCTGCCACCATGCCAGTCCT'"
      ]
     },
     "execution_count": 8,
     "metadata": {},
     "output_type": "execute_result"
    }
   ],
   "source": [
    "\n",
    "sequence_input = \">DNA Query 2\\nGAACACGTGGAGGCAAACAGGAAGGTGAAGAAGAACTTATCCTATCAGGACGGAAGGTCCTGTGCTCGGG\\nATCTTCCAGACGTCGCGACTCTAAATTGCCCCCTCTGAGGTCAAGGAACACAAGATGGTTTTGGAAATGC\\nTGAACCCGATACATTATAACATCACCAGCATCGTGCCTGAAGCCATGCCTGCTGCCACCATGCCAGTCCT\"\n",
    "sequence = sequence_input\n",
    "sequence = sequence.splitlines()\n",
    "sequence\n",
    "sequence = sequence[1:]## Skips the sequence name (first line)\n",
    "sequence\n",
    "sequence = ''.join(sequence) ## Concatenates list to string\n",
    "sequence"
   ]
  },
  {
   "cell_type": "code",
   "execution_count": 9,
   "id": "f2b7a8f5-2bb5-4dc9-81cb-d537d4f736cb",
   "metadata": {},
   "outputs": [
    {
     "data": {
      "text/plain": [
       "'GAACACGTGGAGGCAAACAGGAAGGTGAAGAAGAACTTATCCTATCAGGACGGAAGGTCCTGTGCTCGGGATCTTCCAGACGTCGCGACTCTAAATTGCCCCCTCTGAGGTCAAGGAACACAAGATGGTTTTGGAAATGCTGAACCCGATACATTATAACATCACCAGCATCGTGCCTGAAGCCATGCCTGCTGCCACCATGCCAGTCCT'"
      ]
     },
     "execution_count": 9,
     "metadata": {},
     "output_type": "execute_result"
    }
   ],
   "source": [
    "\n",
    "sequence_input = \">DNA Query 2\\nGAACACGTGGAGGCAAACAGGAAGGTGAAGAAGAACTTATCCTATCAGGACGGAAGGTCCTGTGCTCGGG\\nATCTTCCAGACGTCGCGACTCTAAATTGCCCCCTCTGAGGTCAAGGAACACAAGATGGTTTTGGAAATGC\\nTGAACCCGATACATTATAACATCACCAGCATCGTGCCTGAAGCCATGCCTGCTGCCACCATGCCAGTCCT\"\n",
    "sequence = sequence_input\n",
    "sequence = sequence.splitlines()\n",
    "sequence\n",
    "sequence = sequence[1:]## Skips the sequence name (first line)\n",
    "sequence## Has quotation marks on each row: Deleting that by adding a space\n",
    "\n",
    "#### Explaining - Start\n",
    "## Delete quotation marks: Could add anything (This is just for explanation)\n",
    "#sequence = 'ååå'.join(sequence) ## Concatenates list to string\n",
    "#sequence\n",
    "#### Explaining - End\n",
    "\n",
    "## Deleting the quotation marks:\n",
    "sequence = ''.join(sequence) ## Concatenates list to string\n",
    "sequence"
   ]
  },
  {
   "cell_type": "code",
   "execution_count": null,
   "id": "9c351a75-2369-4b0d-b5f4-edc1ecbd6af8",
   "metadata": {},
   "outputs": [],
   "source": []
  },
  {
   "cell_type": "code",
   "execution_count": 11,
   "id": "2ed2196c-4f99-4648-a6a2-c72419ec3355",
   "metadata": {},
   "outputs": [
    {
     "data": {
      "text/plain": [
       "DeltaGenerator()"
      ]
     },
     "execution_count": 11,
     "metadata": {},
     "output_type": "execute_result"
    }
   ],
   "source": [
    "image_01 = Image.open(fp='./Projects/App_002_001/App_002_001_Exported/Data/Images/app_002_image_01.jpeg', mode='r', formats=None)\n",
    "\n",
    "image_01\n",
    "st.image(image_01, use_column_width=True)\n",
    "\n",
    "st.write(\"\"\" \n",
    "# DNA Nucleotide Count Web App\n",
    "\n",
    "This Web App counts nucleotide composition of query DNA.\n",
    "***\n",
    "\"\"\")\n",
    "\n",
    "st.header('Enter DNA Sequence')"
   ]
  },
  {
   "cell_type": "code",
   "execution_count": 1,
   "id": "c8216aba-904c-4e94-b9f8-d6052d0068f2",
   "metadata": {},
   "outputs": [
    {
     "name": "stderr",
     "output_type": "stream",
     "text": [
      "2023-08-25 19:50:18.878 \n",
      "  \u001b[33m\u001b[1mWarning:\u001b[0m to view this Streamlit app on a browser, run it with the following\n",
      "  command:\n",
      "\n",
      "    streamlit run /Users/luis/miniforge3/envs/venv_FCC_Build_12_DS_Apps_Python_Streamlit_310/lib/python3.10/site-packages/ipykernel_launcher.py [ARGUMENTS]\n"
     ]
    },
    {
     "data": {
      "text/plain": [
       "DeltaGenerator()"
      ]
     },
     "execution_count": 1,
     "metadata": {},
     "output_type": "execute_result"
    }
   ],
   "source": [
    "image_01 = Image.open(fp='./Projects/App_002_001/App_002_001_Exported/Data/Images/app_002_image_01.jpeg', mode='r', formats=None)\n",
    "\n",
    "#image_01\n",
    "\n",
    "## use_column_width\n",
    "st.image(image_01, use_column_width=True)\n",
    "\n",
    "## Header\n",
    "st.write(\"\"\" \n",
    "# DNA Nucleotide Count Web App\n",
    "\n",
    "This Web App counts nucleotide composition of query DNA.\n",
    "***\n",
    "\"\"\")\n",
    "\n",
    "st.header('Enter DNA Sequence')\n",
    "\n",
    "sequence_input = \">DNA Query 2\\nGAACACGTGGAGGCAAACAGGAAGGTGAAGAAGAACTTATCCTATCAGGACGGAAGGTCCTGTGCTCGGG\\nATCTTCCAGACGTCGCGACTCTAAATTGCCCCCTCTGAGGTCAAGGAACACAAGATGGTTTTGGAAATGC\\nTGAACCCGATACATTATAACATCACCAGCATCGTGCCTGAAGCCATGCCTGCTGCCACCATGCCAGTCCT\"\n",
    "\n",
    "sequence = st.text_area(\"Sequence Input\", sequence_input, height=250)\n",
    "sequence = sequence.splitlines()## Creating a list for each line\n",
    "sequence = sequence[1:]## Skips the sequence name (first line) -> '>DNA Query 2'\n",
    "sequence = ''.join(sequence)## Concatenates list to string\n",
    "\n",
    "st.write(\"\"\"\n",
    "***\n",
    "\"\"\")\n",
    "\n",
    "## Prints the input DNA Sequence\n",
    "st.header('Input (DNA Query)')\n",
    "sequence\n",
    "\n",
    "## DNA nucleotide count\n",
    "st.header('Output (DNA Nucleotide Count')\n"
   ]
  },
  {
   "cell_type": "code",
   "execution_count": 8,
   "id": "50bc8d94-1e43-46ed-97b2-4c767db771ec",
   "metadata": {},
   "outputs": [
    {
     "data": {
      "text/plain": [
       "{'A': 60, 'T': 43, 'G': 52, 'C': 56}"
      ]
     },
     "execution_count": 8,
     "metadata": {},
     "output_type": "execute_result"
    }
   ],
   "source": [
    "def DNA_nucleotide_count(seq):\n",
    "    d = dict([\n",
    "        ('A',seq.count('A')),\n",
    "        ('T',seq.count('T')),\n",
    "        ('G',seq.count('G')),\n",
    "        ('C',seq.count('C'))\n",
    "    ])\n",
    "    return d\n",
    "\n",
    "sequence_input = \">DNA Query 2\\nGAACACGTGGAGGCAAACAGGAAGGTGAAGAAGAACTTATCCTATCAGGACGGAAGGTCCTGTGCTCGGG\\nATCTTCCAGACGTCGCGACTCTAAATTGCCCCCTCTGAGGTCAAGGAACACAAGATGGTTTTGGAAATGC\\nTGAACCCGATACATTATAACATCACCAGCATCGTGCCTGAAGCCATGCCTGCTGCCACCATGCCAGTCCT\"\n",
    "DNA_nucleotide_count(seq=sequence_input)\n"
   ]
  },
  {
   "cell_type": "code",
   "execution_count": 17,
   "id": "48136dac-cd9f-40b5-94c6-9eed498cd5d2",
   "metadata": {},
   "outputs": [
    {
     "name": "stdout",
     "output_type": "stream",
     "text": [
      "  nucleotide  count\n",
      "0          A     60\n",
      "1          T     43\n",
      "2          G     52\n",
      "3          C     56\n"
     ]
    }
   ],
   "source": [
    "X = DNA_nucleotide_count(seq=sequence_input)\n",
    "\n",
    "st.subheader('3. Display DataFrame')\n",
    "df = pd.DataFrame.from_dict(X, orient='index')\n",
    "df = df.rename({0:'count'}, axis='columns')\n",
    "df.reset_index(inplace=True)\n",
    "df = df.rename(columns = {'index':'nucleotide'})\n",
    "st.write(df)\n",
    "print(df)"
   ]
  },
  {
   "cell_type": "code",
   "execution_count": 19,
   "id": "6b60bf52-7d22-4a7c-b8c8-ebaaacb576e9",
   "metadata": {},
   "outputs": [],
   "source": [
    "import numpy as np\n",
    "import pandas as pd\n",
    "import streamlit as st\n",
    "\n",
    "import altair as alt\n",
    "#import PIL as PIL\n",
    "from PIL import Image\n",
    "\n",
    "\n",
    "image_01 = Image.open(fp='./Projects/App_002_001/App_002_001_Exported/Data/Images/app_002_image_01.jpeg', mode='r', formats=None)\n",
    "\n",
    "## use_column_width\n",
    "st.image(image_01, use_column_width=True)\n",
    "\n",
    "## Header\n",
    "st.write(\"\"\"\n",
    "# DNA Nucleotide Count Web App\n",
    "\n",
    "This Web App counts nucleotide composition of query DNA.\n",
    "\n",
    "***\n",
    "\"\"\")\n",
    "\n",
    "\n",
    "## Input Text Box\n",
    "st.header('Enter DNA Sequence')\n",
    "\n",
    "sequence_input = \">DNA Query 2\\nGAACACGTGGAGGCAAACAGGAAGGTGAAGAAGAACTTATCCTATCAGGACGGAAGGTCCTGTGCTCGGG\\nATCTTCCAGACGTCGCGACTCTAAATTGCCCCCTCTGAGGTCAAGGAACACAAGATGGTTTTGGAAATGC\\nTGAACCCGATACATTATAACATCACCAGCATCGTGCCTGAAGCCATGCCTGCTGCCACCATGCCAGTCCT\"\n",
    "\n",
    "sequence = st.text_area(\"Sequence Input\", sequence_input, height=250)\n",
    "sequence = sequence.splitlines()## Creating a list for each line\n",
    "sequence = sequence[1:]## Skips the sequence name (first line) -> '>DNA Query 2'\n",
    "sequence = ''.join(sequence)## Concatenates list to string\n",
    "\n",
    "\n",
    "st.write(\"\"\"\n",
    "***\n",
    "\"\"\")\n",
    "\n",
    "st.header('Input (DNA Query)')\n",
    "sequence\n",
    "\n",
    "## DNA Nucleotide Count\n",
    "st.header('OUTPUT (DNA Nucleotide Count)')\n",
    "\n",
    "\n",
    "## 1. Printing Dictionary\n",
    "st.subheader('1. Print dictionary')\n",
    "def DNA_nucleotide_count(seq):\n",
    "    d = dict([\n",
    "        ('A',seq.count('A')),\n",
    "        ('T',seq.count('T')),\n",
    "        ('G',seq.count('G')),\n",
    "        ('C',seq.count('C'))\n",
    "    ])\n",
    "    return d\n",
    "\n",
    "X = DNA_nucleotide_count(sequence)\n",
    "\n",
    "X_label = list(X)\n",
    "X_values = list(X.values())\n",
    "\n",
    "X\n",
    "\n",
    "## 2. Print text\n",
    "st.subheader('2. Print Text')\n",
    "st.write('There are ' + str(X['A']) + ' adenine (A)')\n",
    "st.write('There are ' + str(X['T']) + 'Thymine (T)')\n",
    "st.write('There are ' + str(X['G']) + 'Guanine (G)')\n",
    "st.write('There are ' + str(X['C']) + 'Cytosine (C)')\n",
    "\n",
    "## 3. Display DataFrame\n",
    "st.subheader('3. Display DataFrame')\n",
    "df = pd.DataFrame.from_dict(X, orient='index')\n",
    "df = df.rename({0:'count'}, axis='columns')\n",
    "df.reset_index(inplace=True)\n",
    "df = df.rename(columns = {'index':'nucleotide'})\n",
    "st.write(df)\n",
    "\n",
    "## 4. Display Bar Chart using Altair\n",
    "st.subheader('4. Display Bar Chart')\n",
    "p = alt.Chart(data=df).mark_bar().encode(x='nucleotide', y='count')\n",
    "p = p.properties(\n",
    "    width=alt.Step(80) ## Control width of bar\n",
    ")\n",
    "st.write(p)\n",
    "\n"
   ]
  }
 ],
 "metadata": {
  "kernelspec": {
   "display_name": "Python [conda env:venv_FCC_Build_12_DS_Apps_Python_Streamlit_310] *",
   "language": "python",
   "name": "conda-env-venv_FCC_Build_12_DS_Apps_Python_Streamlit_310-py"
  },
  "language_info": {
   "codemirror_mode": {
    "name": "ipython",
    "version": 3
   },
   "file_extension": ".py",
   "mimetype": "text/x-python",
   "name": "python",
   "nbconvert_exporter": "python",
   "pygments_lexer": "ipython3",
   "version": "3.10.12"
  }
 },
 "nbformat": 4,
 "nbformat_minor": 5
}
