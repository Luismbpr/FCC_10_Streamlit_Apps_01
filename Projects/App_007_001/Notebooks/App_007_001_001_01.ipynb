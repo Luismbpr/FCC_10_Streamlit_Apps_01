{
 "cells": [
  {
   "cell_type": "markdown",
   "id": "2e2356e7-9acb-4696-87c3-7478230c5a81",
   "metadata": {},
   "source": [
    "## Classification Iris Data"
   ]
  },
  {
   "cell_type": "code",
   "execution_count": null,
   "id": "4cf016f0-52f6-4157-a277-aaaaa3897862",
   "metadata": {},
   "outputs": [],
   "source": [
    "import numpy as np\n",
    "import pandas as pd\n",
    "import streamlit as st\n",
    "from sklearn import datasets\n",
    "from sklearn.ensemble import RandomForestClassifier\n",
    "\n",
    "\n",
    "st.write(\"\"\"\n",
    "# Iris Flower Classification App\n",
    "## This App predicts the different types of varieties from the classic Iris Dataset.\n",
    "\"\"\")\n",
    "\n",
    "st.sidebar.header('User Input Parameters')\n",
    "\n",
    "def user_input_features():\n",
    "    ###variable_name = st.sidebar.slider(\"text to show\", min_value, max_value, default_value)\n",
    "    sepal_length = st.sidebar.slider('Sepal length', 4.3, 7.9, 5.4)\n",
    "    sepal_width = st.sidebar.slider('Sepal width', 2.0, 4.4, 3.4)\n",
    "    petal_length = st.sidebar.slider('Petal length', 1.0, 6.9, 1.3)\n",
    "    petal_width = st.sidebar.slider('Petal width', 0.1, 2.5, 0.2)\n",
    "    data = {'sepal_length':sepal_length,\n",
    "            'sepal_width':sepal_width,\n",
    "            'petal_length':petal_length,\n",
    "            'petal_width':petal_width}\n",
    "    features = pd.DataFrame(data, index=[0])\n",
    "    return features\n",
    "\n",
    "df = user_input_features()\n",
    "\n",
    "st.subheader('User Input Parameters')\n",
    "## Print out the DataFrame\n",
    "st.write(df)\n",
    "\n",
    "iris  = datasets.load_iris()\n",
    "X = iris.data\n",
    "Y = iris.target\n",
    "\n",
    "clf = RandomForestClassifier()\n",
    "clf.fit(X, y)\n",
    "\n",
    "prediction = clf.predict(df)\n",
    "prediction_proba = clf.predict_proba(df)\n",
    "\n",
    "st.subheader('Class labels and their corresponding index number')\n",
    "st.write(iris.target_names)\n",
    "\n",
    "st.subheader('Prediction')\n",
    "st.write(iris.target_names[prediction])\n",
    "\n",
    "st.subheader('Prediction Probability')\n",
    "st.write(prediction_proba)\n",
    "\n"
   ]
  },
  {
   "cell_type": "code",
   "execution_count": null,
   "id": "7303ea7f-9819-44c7-a3f7-2f4aa64ce982",
   "metadata": {},
   "outputs": [],
   "source": []
  }
 ],
 "metadata": {
  "kernelspec": {
   "display_name": "Python [conda env:venv_FCC_Build_12_DS_Apps_Python_Streamlit_310] *",
   "language": "python",
   "name": "conda-env-venv_FCC_Build_12_DS_Apps_Python_Streamlit_310-py"
  },
  "language_info": {
   "codemirror_mode": {
    "name": "ipython",
    "version": 3
   },
   "file_extension": ".py",
   "mimetype": "text/x-python",
   "name": "python",
   "nbconvert_exporter": "python",
   "pygments_lexer": "ipython3",
   "version": "3.10.12"
  }
 },
 "nbformat": 4,
 "nbformat_minor": 5
}
